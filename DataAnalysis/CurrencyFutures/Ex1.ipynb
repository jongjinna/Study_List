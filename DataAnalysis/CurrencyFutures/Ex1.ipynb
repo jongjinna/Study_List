{
 "cells": [
  {
   "cell_type": "markdown",
   "source": [
    "__데이터과학과소셜데이터분석 과제2__\r\n",
    "===================================\r\n",
    "\r\n",
    "경영학과 2017312717 나종진\r\n",
    "-------------------------"
   ],
   "metadata": {}
  },
  {
   "cell_type": "markdown",
   "source": [
    "## 필요한 라이브러리 import"
   ],
   "metadata": {}
  },
  {
   "cell_type": "markdown",
   "source": [
    "### 설명 적기\r\n",
    "pandas는 어쩌구\r\n",
    "\r\n",
    "matplotlib은 어쩌구\r\n",
    "\r\n",
    "seaborn은 어쩌구"
   ],
   "metadata": {}
  },
  {
   "cell_type": "code",
   "execution_count": 234,
   "source": [
    "import pandas as pd\r\n",
    "import matplotlib.pyplot as plt\r\n",
    "%matplotlib inline\r\n",
    "import seaborn as sns\r\n",
    "import sklearn\r\n",
    "from sklearn.linear_model import LinearRegression\r\n"
   ],
   "outputs": [],
   "metadata": {}
  },
  {
   "cell_type": "markdown",
   "source": [
    "## 데이터 가져오기"
   ],
   "metadata": {}
  },
  {
   "cell_type": "markdown",
   "source": [
    "### 설명 적기\r\n",
    "ExchangeRates는 환율 데이터로 어떻게 구성되어있음\r\n",
    "\r\n",
    "CurrencyFutures은 통화선물데이터로 이렇게 구성되어있음"
   ],
   "metadata": {}
  },
  {
   "cell_type": "code",
   "execution_count": 235,
   "source": [
    "ExchangeRates = pd.read_csv('./ExchangeRates.csv', index_col=0, na_values=0 )\r\n",
    "CurrencyFutures = pd.read_csv('./CurrencyFutures.csv', index_col=0, na_values=0, )\r\n",
    "ExchangeRates = ExchangeRates.fillna(0)\r\n",
    "CurrencyFutures = CurrencyFutures.fillna(0)"
   ],
   "outputs": [],
   "metadata": {}
  },
  {
   "cell_type": "markdown",
   "source": [
    "## 데이터 설정"
   ],
   "metadata": {}
  },
  {
   "cell_type": "markdown",
   "source": [
    "### 시간데이터로 변경"
   ],
   "metadata": {}
  },
  {
   "cell_type": "code",
   "execution_count": 236,
   "source": [
    "ExchangeRates.index = pd.to_datetime(ExchangeRates.index, format=\"%Y%m\") # dtype = 'datetime64[ns]'로\r\n",
    "ExchangeRates.index = ExchangeRates.index.to_period(\"M\") # dtype='period[M]'으로 \r\n",
    "CurrencyFutures.index = pd.to_datetime(CurrencyFutures.index, format=\"%Y%m\") # dtype = 'datetime64[ns]'로\r\n",
    "CurrencyFutures.index = CurrencyFutures.index.to_period(\"M\") # dtype='period[M]'으로 "
   ],
   "outputs": [],
   "metadata": {}
  },
  {
   "cell_type": "markdown",
   "source": [
    "### 국가별로 통화선물 구분"
   ],
   "metadata": {}
  },
  {
   "cell_type": "code",
   "execution_count": 237,
   "source": [
    "AmericanFuture = CurrencyFutures.iloc[:,0:3]\r\n",
    "JapanFuture = CurrencyFutures.iloc[:,3:6]\r\n",
    "EuroFuture = CurrencyFutures.iloc[:,6:9]\r\n",
    "ChinaFuture = CurrencyFutures.iloc[:,9:]"
   ],
   "outputs": [],
   "metadata": {}
  },
  {
   "cell_type": "markdown",
   "source": [
    "### 국가별로 환율과 통화선물 데이터 병합"
   ],
   "metadata": {}
  },
  {
   "cell_type": "code",
   "execution_count": 238,
   "source": [
    "AmericanData = pd.merge(ExchangeRates['원/미국달러'], AmericanFuture, how='outer', on='날짜')\r\n",
    "JapanData = pd.merge(ExchangeRates['원/일본엔(100엔)'], JapanFuture, how='outer', on='날짜')\r\n",
    "EuroData = pd.merge(ExchangeRates['원/유로'], EuroFuture, how='outer', on='날짜')\r\n",
    "ChinaData = pd.merge(ExchangeRates['원/위안'], ChinaFuture, how='outer', on='날짜')"
   ],
   "outputs": [],
   "metadata": {}
  },
  {
   "cell_type": "markdown",
   "source": [
    "### 분석 데이터와 Test 데이터로 구분\r\n",
    "(16년 1월 ~ 20년 12월 5년간 데이터 / 21년 1월 ~ 21년 6월 21년 상반기 데이터)"
   ],
   "metadata": {}
  },
  {
   "cell_type": "code",
   "execution_count": 239,
   "source": [
    "AmericanData_Test = pd.merge(ExchangeRates['원/미국달러']['202101':], AmericanFuture['202101':], how='outer', on='날짜')\r\n",
    "JapanData_Test = pd.merge(ExchangeRates['원/일본엔(100엔)']['202101':], JapanFuture['202101':], how='outer', on='날짜')\r\n",
    "EuroData_Test = pd.merge(ExchangeRates['원/유로']['202101':], EuroFuture['202101':], how='outer', on='날짜')\r\n",
    "ChinaData_Test = pd.merge(ExchangeRates['원/위안']['202101':], ChinaFuture['202101':], how='outer', on='날짜')\r\n",
    "\r\n",
    "AmericanData = pd.merge(ExchangeRates['원/미국달러'][:'202012'], AmericanFuture[:'202012'], how='outer', on='날짜')\r\n",
    "JapanData = pd.merge(ExchangeRates['원/일본엔(100엔)'][:'202012'], JapanFuture[:'202012'], how='outer', on='날짜')\r\n",
    "EuroData = pd.merge(ExchangeRates['원/유로'][:'202012'], EuroFuture[:'202012'], how='outer', on='날짜')\r\n",
    "ChinaData = pd.merge(ExchangeRates['원/위안'][:'202012'], ChinaFuture[:'202012'], how='outer', on='날짜')"
   ],
   "outputs": [],
   "metadata": {}
  },
  {
   "cell_type": "markdown",
   "source": [
    "## 데이터 분석"
   ],
   "metadata": {}
  },
  {
   "cell_type": "markdown",
   "source": [
    "### 산포도, 상관관계, 단순선형회귀분석 \r\n",
    "- 미국\r\n",
    "- 일본\r\n",
    "- 유럽\r\n",
    "- 중국"
   ],
   "metadata": {}
  },
  {
   "cell_type": "markdown",
   "source": [
    "#### 미국 데이터 분석\r\n",
    "- 미국달러선물 계약수 & 원/미국달러\r\n",
    "- 미국달러선물 계약금액 & 원/미국달러\r\n",
    "- 미국달러선물 미약정계약 & 원/미국달러"
   ],
   "metadata": {}
  },
  {
   "cell_type": "code",
   "execution_count": 240,
   "source": [
    "X = pd.DataFrame(AmericanData['미국달러선물 계약수 (계약)'].values, columns = [['Contracts Num']], dtype=float)\r\n",
    "y = pd.DataFrame(AmericanData['원/미국달러'].values, columns = [['Exchange']], dtype=float)\r\n",
    "AmericanCorrFuturesNumAndExchanges = pd.concat([X, y], axis=1).corr()\r\n",
    "print(AmericanCorrFuturesNumAndExchanges)"
   ],
   "outputs": [
    {
     "output_type": "stream",
     "name": "stdout",
     "text": [
      "              Contracts Num  Exchange\n",
      "Contracts Num      1.000000  0.435282\n",
      "Exchange           0.435282  1.000000\n"
     ]
    }
   ],
   "metadata": {}
  },
  {
   "cell_type": "code",
   "execution_count": 241,
   "source": [
    "lr = LinearRegression()\r\n",
    "lr.fit(X, y)\r\n",
    "print(lr.coef_) # 기울기 계수 출력\r\n",
    "print(lr.intercept_) # 절편 출력\r\n",
    "print(lr.score(X, y)) # 상관계수 출력"
   ],
   "outputs": [
    {
     "output_type": "stream",
     "name": "stdout",
     "text": [
      "[[1.20263884e-05]]\n",
      "[1067.90936144]\n",
      "0.18947077624483444\n"
     ]
    }
   ],
   "metadata": {}
  },
  {
   "cell_type": "code",
   "execution_count": 242,
   "source": [
    "y1 = (lr.coef_)*X + (lr.intercept_)\r\n",
    "plt.scatter (X, y)\r\n",
    "plt.plot(X, y1)"
   ],
   "outputs": [
    {
     "output_type": "execute_result",
     "data": {
      "text/plain": [
       "[<matplotlib.lines.Line2D at 0x29746a057c8>]"
      ]
     },
     "metadata": {},
     "execution_count": 242
    },
    {
     "output_type": "display_data",
     "data": {
      "text/plain": [
       "<Figure size 432x288 with 1 Axes>"
      ],
      "image/png": "[encoded data removed]"
     },
     "metadata": {
      "needs_background": "light"
     }
    }
   ],
   "metadata": {}
  },
  {
   "cell_type": "code",
   "execution_count": 243,
   "source": [
    "X = pd.DataFrame(AmericanData['미국달러선물 계약금액 (백만원)'].values, columns = [['Contracts Amount']], dtype=float)\r\n",
    "y = pd.DataFrame(AmericanData['원/미국달러'].values, columns = [['Exchange']], dtype=float)\r\n",
    "AmericanCorrFuturesAmountAndExchanges = pd.concat([X, y], axis=1).corr()\r\n",
    "print(AmericanCorrFuturesAmountAndExchanges)"
   ],
   "outputs": [
    {
     "output_type": "stream",
     "name": "stdout",
     "text": [
      "                 Contracts Amount  Exchange\n",
      "Contracts Amount         1.000000  0.532559\n",
      "Exchange                 0.532559  1.000000\n"
     ]
    }
   ],
   "metadata": {}
  },
  {
   "cell_type": "code",
   "execution_count": 244,
   "source": [
    "lr = LinearRegression()\r\n",
    "lr.fit(X, y)\r\n",
    "print(lr.coef_) # 기울기 계수 출력\r\n",
    "print(lr.intercept_) # 절편 출력\r\n",
    "print(lr.score(X, y)) # 상관계수 출력"
   ],
   "outputs": [
    {
     "output_type": "stream",
     "name": "stdout",
     "text": [
      "[[1.17473568e-06]]\n",
      "[1058.11180207]\n",
      "0.28361918900683314\n"
     ]
    }
   ],
   "metadata": {}
  },
  {
   "cell_type": "code",
   "execution_count": 245,
   "source": [
    "y1 = (lr.coef_)*X + (lr.intercept_)\r\n",
    "plt.scatter (X, y)\r\n",
    "plt.plot(X, y1)"
   ],
   "outputs": [
    {
     "output_type": "execute_result",
     "data": {
      "text/plain": [
       "[<matplotlib.lines.Line2D at 0x29747bedb88>]"
      ]
     },
     "metadata": {},
     "execution_count": 245
    },
    {
     "output_type": "display_data",
     "data": {
      "text/plain": [
       "<Figure size 432x288 with 1 Axes>"
      ],
      "image/png": "[encoded data removed]"
     },
     "metadata": {
      "needs_background": "light"
     }
    }
   ],
   "metadata": {}
  },
  {
   "cell_type": "code",
   "execution_count": 246,
   "source": [
    "X = pd.DataFrame(AmericanData['미국달러선물 미결제약정 (계약)'].values, columns = [['Open Interest Contracts']], dtype=float)\r\n",
    "y = pd.DataFrame(AmericanData['원/미국달러'].values, columns = [['Exchange']], dtype=float)\r\n",
    "AmericanCorrFuturesOIAndExchanges = pd.concat([X, y], axis=1).corr()\r\n",
    "print(AmericanCorrFuturesOIAndExchanges)"
   ],
   "outputs": [
    {
     "output_type": "stream",
     "name": "stdout",
     "text": [
      "                        Open Interest Contracts  Exchange\n",
      "Open Interest Contracts                1.000000 -0.000303\n",
      "Exchange                              -0.000303  1.000000\n"
     ]
    }
   ],
   "metadata": {}
  },
  {
   "cell_type": "code",
   "execution_count": 247,
   "source": [
    "lr = LinearRegression()\r\n",
    "lr.fit(X, y)\r\n",
    "print(lr.coef_) # 기울기 계수 출력\r\n",
    "print(lr.intercept_) # 절편 출력\r\n",
    "print(lr.score(X, y)) # 상관계수 출력"
   ],
   "outputs": [
    {
     "output_type": "stream",
     "name": "stdout",
     "text": [
      "[[-1.32799307e-07]]\n",
      "[1146.39967775]\n",
      "9.168784675939179e-08\n"
     ]
    }
   ],
   "metadata": {}
  },
  {
   "cell_type": "code",
   "execution_count": 248,
   "source": [
    "y1 = (lr.coef_)*X + (lr.intercept_)\r\n",
    "plt.scatter (X, y)\r\n",
    "plt.plot(X, y1)"
   ],
   "outputs": [
    {
     "output_type": "execute_result",
     "data": {
      "text/plain": [
       "[<matplotlib.lines.Line2D at 0x29747c4bbc8>]"
      ]
     },
     "metadata": {},
     "execution_count": 248
    },
    {
     "output_type": "display_data",
     "data": {
      "text/plain": [
       "<Figure size 432x288 with 1 Axes>"
      ],
      "image/png": "[encoded data removed]"
     },
     "metadata": {
      "needs_background": "light"
     }
    }
   ],
   "metadata": {}
  },
  {
   "cell_type": "markdown",
   "source": [
    "#### 일본 데이터 분석\r\n",
    "- 엔선물 계약수 & 원/일본엔(100엔)\r\n",
    "- 엔선물 계약금액 & 원/일본엔(100엔)\r\n",
    "- 엔선물 미약정계약 & 원/일본엔(100엔)"
   ],
   "metadata": {}
  },
  {
   "cell_type": "code",
   "execution_count": 249,
   "source": [
    "X = pd.DataFrame(JapanData['엔선물 계약수 (계약)'].values, columns = [['Contracts']], dtype=float)\r\n",
    "y = pd.DataFrame(JapanData['원/일본엔(100엔)'].values, columns = [['Exchange']], dtype=float)\r\n",
    "JapanCorrFuturesAndExchanges = pd.concat([X, y], axis=1).corr()\r\n",
    "print(JapanCorrFuturesAndExchanges)"
   ],
   "outputs": [
    {
     "output_type": "stream",
     "name": "stdout",
     "text": [
      "          Contracts  Exchange\n",
      "Contracts  1.000000  0.105646\n",
      "Exchange   0.105646  1.000000\n"
     ]
    }
   ],
   "metadata": {}
  },
  {
   "cell_type": "code",
   "execution_count": 250,
   "source": [
    "lr = LinearRegression()\r\n",
    "lr.fit(X, y)\r\n",
    "print(lr.coef_) # 기울기 계수 출력\r\n",
    "print(lr.intercept_) # 절편 출력\r\n",
    "print(lr.score(X, y)) # 상관계수 출력"
   ],
   "outputs": [
    {
     "output_type": "stream",
     "name": "stdout",
     "text": [
      "[[0.00038752]]\n",
      "[1028.1622074]\n",
      "0.011161099162845356\n"
     ]
    }
   ],
   "metadata": {}
  },
  {
   "cell_type": "code",
   "execution_count": 251,
   "source": [
    "y1 = (lr.coef_)*X + (lr.intercept_)\r\n",
    "plt.scatter (X, y)\r\n",
    "plt.plot(X, y1)"
   ],
   "outputs": [
    {
     "output_type": "execute_result",
     "data": {
      "text/plain": [
       "[<matplotlib.lines.Line2D at 0x29747cc7548>]"
      ]
     },
     "metadata": {},
     "execution_count": 251
    },
    {
     "output_type": "display_data",
     "data": {
      "text/plain": [
       "<Figure size 432x288 with 1 Axes>"
      ],
      "image/png": "[encoded data removed]"
     },
     "metadata": {
      "needs_background": "light"
     }
    }
   ],
   "metadata": {}
  },
  {
   "cell_type": "code",
   "execution_count": 252,
   "source": [
    "X = pd.DataFrame(JapanData['엔선물 계약금액 (백만원)'].values, columns = [['Contracts Amount']], dtype=float)\r\n",
    "y = pd.DataFrame(JapanData['원/일본엔(100엔)'].values, columns = [['Exchange']], dtype=float)\r\n",
    "JapanCorrFuturesAmountAndExchanges = pd.concat([X, y], axis=1).corr()\r\n",
    "print(JapanCorrFuturesAmountAndExchanges)"
   ],
   "outputs": [
    {
     "output_type": "stream",
     "name": "stdout",
     "text": [
      "                 Contracts Amount  Exchange\n",
      "Contracts Amount         1.000000  0.273776\n",
      "Exchange                 0.273776  1.000000\n"
     ]
    }
   ],
   "metadata": {}
  },
  {
   "cell_type": "code",
   "execution_count": 253,
   "source": [
    "lr = LinearRegression()\r\n",
    "lr.fit(X, y)\r\n",
    "print(lr.coef_) # 기울기 계수 출력\r\n",
    "print(lr.intercept_) # 절편 출력\r\n",
    "print(lr.score(X, y)) # 상관계수 출력"
   ],
   "outputs": [
    {
     "output_type": "stream",
     "name": "stdout",
     "text": [
      "[[9.00975529e-05]]\n",
      "[998.13668442]\n",
      "0.07495351298004671\n"
     ]
    }
   ],
   "metadata": {}
  },
  {
   "cell_type": "code",
   "execution_count": 254,
   "source": [
    "y1 = (lr.coef_)*X + (lr.intercept_)\r\n",
    "plt.scatter (X, y)\r\n",
    "plt.plot(X, y1)"
   ],
   "outputs": [
    {
     "output_type": "execute_result",
     "data": {
      "text/plain": [
       "[<matplotlib.lines.Line2D at 0x29747cc7788>]"
      ]
     },
     "metadata": {},
     "execution_count": 254
    },
    {
     "output_type": "display_data",
     "data": {
      "text/plain": [
       "<Figure size 432x288 with 1 Axes>"
      ],
      "image/png": "[encoded data removed]"
     },
     "metadata": {
      "needs_background": "light"
     }
    }
   ],
   "metadata": {}
  },
  {
   "cell_type": "code",
   "execution_count": 255,
   "source": [
    "X = pd.DataFrame(JapanData['엔선물 미결제약정 (계약)'].values, columns = [['Open Interest Contracts']], dtype=float)\r\n",
    "y = pd.DataFrame(JapanData['원/일본엔(100엔)'].values, columns = [['Exchange']], dtype=float)\r\n",
    "JapanCorrFuturesOIAndExchanges = pd.concat([X, y], axis=1).corr()\r\n",
    "print(JapanCorrFuturesOIAndExchanges)"
   ],
   "outputs": [
    {
     "output_type": "stream",
     "name": "stdout",
     "text": [
      "                        Open Interest Contracts  Exchange\n",
      "Open Interest Contracts                1.000000  0.265742\n",
      "Exchange                               0.265742  1.000000\n"
     ]
    }
   ],
   "metadata": {}
  },
  {
   "cell_type": "code",
   "execution_count": 256,
   "source": [
    "lr = LinearRegression()\r\n",
    "lr.fit(X, y)\r\n",
    "print(lr.coef_) # 기울기 계수 출력\r\n",
    "print(lr.intercept_) # 절편 출력\r\n",
    "print(lr.score(X, y)) # 상관계수 출력"
   ],
   "outputs": [
    {
     "output_type": "stream",
     "name": "stdout",
     "text": [
      "[[0.00374101]]\n",
      "[986.77417559]\n",
      "0.07061861378045975\n"
     ]
    }
   ],
   "metadata": {}
  },
  {
   "cell_type": "code",
   "execution_count": 257,
   "source": [
    "y1 = (lr.coef_)*X + (lr.intercept_)\r\n",
    "plt.scatter (X, y)\r\n",
    "plt.plot(X, y1)"
   ],
   "outputs": [
    {
     "output_type": "execute_result",
     "data": {
      "text/plain": [
       "[<matplotlib.lines.Line2D at 0x29747dcd208>]"
      ]
     },
     "metadata": {},
     "execution_count": 257
    },
    {
     "output_type": "display_data",
     "data": {
      "text/plain": [
       "<Figure size 432x288 with 1 Axes>"
      ],
      "image/png": "[encoded data removed]"
     },
     "metadata": {
      "needs_background": "light"
     }
    }
   ],
   "metadata": {}
  },
  {
   "cell_type": "markdown",
   "source": [
    "#### 유럽 데이터 분석\r\n",
    "- 유로선물 계약수 & 원/유로\r\n",
    "- 유로선물 계약금액 & 원/유로\r\n",
    "- 유로선물 미약정계약 & 원/유로"
   ],
   "metadata": {}
  },
  {
   "cell_type": "code",
   "execution_count": 258,
   "source": [
    "X = pd.DataFrame(EuroData['유로선물 계약수 (계약)'].values, columns = [['Contracts']], dtype=float)\r\n",
    "y = pd.DataFrame(EuroData['원/유로'].values, columns = [['Exchange']], dtype=float)\r\n",
    "EuroCorrFuturesAndExchanges = pd.concat([X, y], axis=1).corr()\r\n",
    "print(EuroCorrFuturesAndExchanges)"
   ],
   "outputs": [
    {
     "output_type": "stream",
     "name": "stdout",
     "text": [
      "          Contracts  Exchange\n",
      "Contracts  1.000000  0.450255\n",
      "Exchange   0.450255  1.000000\n"
     ]
    }
   ],
   "metadata": {}
  },
  {
   "cell_type": "code",
   "execution_count": 259,
   "source": [
    "lr = LinearRegression()\r\n",
    "lr.fit(X, y)\r\n",
    "print(lr.coef_) # 기울기 계수 출력\r\n",
    "print(lr.intercept_) # 절편 출력\r\n",
    "print(lr.score(X, y)) # 상관계수 출력"
   ],
   "outputs": [
    {
     "output_type": "stream",
     "name": "stdout",
     "text": [
      "[[0.00191565]]\n",
      "[1184.54714223]\n",
      "0.2027296158985341\n"
     ]
    }
   ],
   "metadata": {}
  },
  {
   "cell_type": "code",
   "execution_count": 260,
   "source": [
    "y1 = (lr.coef_)*X + (lr.intercept_)\r\n",
    "plt.scatter (X, y)\r\n",
    "plt.plot(X, y1)"
   ],
   "outputs": [
    {
     "output_type": "execute_result",
     "data": {
      "text/plain": [
       "[<matplotlib.lines.Line2D at 0x29747dcd4c8>]"
      ]
     },
     "metadata": {},
     "execution_count": 260
    },
    {
     "output_type": "display_data",
     "data": {
      "text/plain": [
       "<Figure size 432x288 with 1 Axes>"
      ],
      "image/png": "[encoded data removed]"
     },
     "metadata": {
      "needs_background": "light"
     }
    }
   ],
   "metadata": {}
  },
  {
   "cell_type": "code",
   "execution_count": 261,
   "source": [
    "X = pd.DataFrame(EuroData['유로선물 계약금액 (백만원)'].values, columns = [['Contracts Amount']], dtype=float)\r\n",
    "y = pd.DataFrame(EuroData['원/유로'].values, columns = [['Exchange']], dtype=float)\r\n",
    "EuroCorrFuturesAmountAndExchanges = pd.concat([X, y], axis=1).corr()\r\n",
    "print(EuroCorrFuturesAmountAndExchanges)"
   ],
   "outputs": [
    {
     "output_type": "stream",
     "name": "stdout",
     "text": [
      "                 Contracts Amount  Exchange\n",
      "Contracts Amount         1.000000  0.572079\n",
      "Exchange                 0.572079  1.000000\n"
     ]
    }
   ],
   "metadata": {}
  },
  {
   "cell_type": "code",
   "execution_count": 262,
   "source": [
    "lr = LinearRegression()\r\n",
    "lr.fit(X, y)\r\n",
    "print(lr.coef_) # 기울기 계수 출력\r\n",
    "print(lr.intercept_) # 절편 출력\r\n",
    "print(lr.score(X, y)) # 상관계수 출력"
   ],
   "outputs": [
    {
     "output_type": "stream",
     "name": "stdout",
     "text": [
      "[[0.00016684]]\n",
      "[1168.44969725]\n",
      "0.3272743948674137\n"
     ]
    }
   ],
   "metadata": {}
  },
  {
   "cell_type": "code",
   "execution_count": 263,
   "source": [
    "y1 = (lr.coef_)*X + (lr.intercept_)\r\n",
    "plt.scatter (X, y)\r\n",
    "plt.plot(X, y1)"
   ],
   "outputs": [
    {
     "output_type": "execute_result",
     "data": {
      "text/plain": [
       "[<matplotlib.lines.Line2D at 0x29747eec248>]"
      ]
     },
     "metadata": {},
     "execution_count": 263
    },
    {
     "output_type": "display_data",
     "data": {
      "text/plain": [
       "<Figure size 432x288 with 1 Axes>"
      ],
      "image/png": "[encoded data removed]"
     },
     "metadata": {
      "needs_background": "light"
     }
    }
   ],
   "metadata": {}
  },
  {
   "cell_type": "code",
   "execution_count": 264,
   "source": [
    "X = pd.DataFrame(EuroData['유로선물 미결제약정 (계약)'].values, columns = [['Open Interest Contracts']], dtype=float)\r\n",
    "y = pd.DataFrame(EuroData['원/유로'].values, columns = [['Exchange']], dtype=float)\r\n",
    "EuroCorrFuturesOIAndExchanges = pd.concat([X, y], axis=1).corr()\r\n",
    "print(EuroCorrFuturesOIAndExchanges)"
   ],
   "outputs": [
    {
     "output_type": "stream",
     "name": "stdout",
     "text": [
      "                        Open Interest Contracts  Exchange\n",
      "Open Interest Contracts                1.000000 -0.134151\n",
      "Exchange                              -0.134151  1.000000\n"
     ]
    }
   ],
   "metadata": {}
  },
  {
   "cell_type": "code",
   "execution_count": 265,
   "source": [
    "lr = LinearRegression()\r\n",
    "lr.fit(X, y)\r\n",
    "print(lr.coef_) # 기울기 계수 출력\r\n",
    "print(lr.intercept_) # 절편 출력\r\n",
    "print(lr.score(X, y)) # 상관계수 출력"
   ],
   "outputs": [
    {
     "output_type": "stream",
     "name": "stdout",
     "text": [
      "[[-0.00106455]]\n",
      "[1337.99068001]\n",
      "0.017996448297650014\n"
     ]
    }
   ],
   "metadata": {}
  },
  {
   "cell_type": "code",
   "execution_count": 266,
   "source": [
    "y1 = (lr.coef_)*X + (lr.intercept_)\r\n",
    "plt.scatter (X, y)\r\n",
    "plt.plot(X, y1)"
   ],
   "outputs": [
    {
     "output_type": "execute_result",
     "data": {
      "text/plain": [
       "[<matplotlib.lines.Line2D at 0x29747f606c8>]"
      ]
     },
     "metadata": {},
     "execution_count": 266
    },
    {
     "output_type": "display_data",
     "data": {
      "text/plain": [
       "<Figure size 432x288 with 1 Axes>"
      ],
      "image/png": "[encoded data removed]"
     },
     "metadata": {
      "needs_background": "light"
     }
    }
   ],
   "metadata": {}
  },
  {
   "cell_type": "markdown",
   "source": [
    "#### 중국 데이터 분석\r\n",
    "- 위안선물 계약수 & 원/위안\r\n",
    "- 위안선물 계약금액 & 원/위안\r\n",
    "- 위안선물 미약정계약 & 원/위안"
   ],
   "metadata": {}
  },
  {
   "cell_type": "code",
   "execution_count": 267,
   "source": [
    "X = pd.DataFrame(ChinaData['위안선물 계약수 (계약)'].values, columns = [['Contracts']], dtype=float)\r\n",
    "y = pd.DataFrame(ChinaData['원/위안'].values, columns = [['Exchange']], dtype=float)\r\n",
    "ChinaCorrFuturesAndExchanges = pd.concat([X, y], axis=1).corr()\r\n",
    "print(ChinaCorrFuturesAndExchanges)"
   ],
   "outputs": [
    {
     "output_type": "stream",
     "name": "stdout",
     "text": [
      "          Contracts  Exchange\n",
      "Contracts  1.000000 -0.011423\n",
      "Exchange  -0.011423  1.000000\n"
     ]
    }
   ],
   "metadata": {}
  },
  {
   "cell_type": "code",
   "execution_count": 268,
   "source": [
    "lr = LinearRegression()\r\n",
    "lr.fit(X, y)\r\n",
    "print(lr.coef_) # 기울기 계수 출력\r\n",
    "print(lr.intercept_) # 절편 출력\r\n",
    "print(lr.score(X, y)) # 상관계수 출력"
   ],
   "outputs": [
    {
     "output_type": "stream",
     "name": "stdout",
     "text": [
      "[[-0.00011932]]\n",
      "[169.26731524]\n",
      "0.00013049166206657858\n"
     ]
    }
   ],
   "metadata": {}
  },
  {
   "cell_type": "code",
   "execution_count": 269,
   "source": [
    "y1 = (lr.coef_)*X + (lr.intercept_)\r\n",
    "plt.scatter (X, y)\r\n",
    "plt.plot(X, y1)"
   ],
   "outputs": [
    {
     "output_type": "execute_result",
     "data": {
      "text/plain": [
       "[<matplotlib.lines.Line2D at 0x29747f60888>]"
      ]
     },
     "metadata": {},
     "execution_count": 269
    },
    {
     "output_type": "display_data",
     "data": {
      "text/plain": [
       "<Figure size 432x288 with 1 Axes>"
      ],
      "image/png": "[encoded data removed]"
     },
     "metadata": {
      "needs_background": "light"
     }
    }
   ],
   "metadata": {}
  },
  {
   "cell_type": "code",
   "execution_count": 270,
   "source": [
    "X = pd.DataFrame(ChinaData['위안선물 계약금액 (백만원)'].values, columns = [['Contracts Amount']], dtype=float)\r\n",
    "y = pd.DataFrame(ChinaData['원/위안'].values, columns = [['Exchange']], dtype=float)\r\n",
    "ChinaCorrFuturesAmountAndExchanges = pd.concat([X, y], axis=1).corr()\r\n",
    "print(ChinaCorrFuturesAmountAndExchanges)"
   ],
   "outputs": [
    {
     "output_type": "stream",
     "name": "stdout",
     "text": [
      "                 Contracts Amount  Exchange\n",
      "Contracts Amount         1.000000  0.015822\n",
      "Exchange                 0.015822  1.000000\n"
     ]
    }
   ],
   "metadata": {}
  },
  {
   "cell_type": "code",
   "execution_count": 271,
   "source": [
    "lr = LinearRegression()\r\n",
    "lr.fit(X, y)\r\n",
    "print(lr.coef_) # 기울기 계수 출력\r\n",
    "print(lr.intercept_) # 절편 출력\r\n",
    "print(lr.score(X, y)) # 상관계수 출력"
   ],
   "outputs": [
    {
     "output_type": "stream",
     "name": "stdout",
     "text": [
      "[[9.68875516e-06]]\n",
      "[169.14138605]\n",
      "0.00025033951030539736\n"
     ]
    }
   ],
   "metadata": {}
  },
  {
   "cell_type": "code",
   "execution_count": 272,
   "source": [
    "y1 = (lr.coef_)*X + (lr.intercept_)\r\n",
    "plt.scatter (X, y)\r\n",
    "plt.plot(X, y1)"
   ],
   "outputs": [
    {
     "output_type": "execute_result",
     "data": {
      "text/plain": [
       "[<matplotlib.lines.Line2D at 0x2974805c488>]"
      ]
     },
     "metadata": {},
     "execution_count": 272
    },
    {
     "output_type": "display_data",
     "data": {
      "text/plain": [
       "<Figure size 432x288 with 1 Axes>"
      ],
      "image/png": "[encoded data removed]"
     },
     "metadata": {
      "needs_background": "light"
     }
    }
   ],
   "metadata": {}
  },
  {
   "cell_type": "code",
   "execution_count": 286,
   "source": [
    "X = pd.DataFrame(ChinaData['위안선물 미결제약정 (계약)'].values, columns = [['Open Interest Contracts']], dtype=float)\r\n",
    "y = pd.DataFrame(ChinaData['원/위안'].values, columns = [['Exchange']], dtype=float)\r\n",
    "ChinaCorrFuturesOIAndExchanges = pd.concat([X, y], axis=1).corr()\r\n",
    "print(ChinaCorrFuturesOIAndExchanges)"
   ],
   "outputs": [
    {
     "output_type": "stream",
     "name": "stdout",
     "text": [
      "                        Open Interest Contracts  Exchange\n",
      "Open Interest Contracts                1.000000 -0.382908\n",
      "Exchange                              -0.382908  1.000000\n"
     ]
    }
   ],
   "metadata": {}
  },
  {
   "cell_type": "code",
   "execution_count": 287,
   "source": [
    "lr = LinearRegression()\r\n",
    "lr.fit(X, y)\r\n",
    "print(lr.coef_) # 기울기 계수 출력\r\n",
    "print(lr.intercept_) # 절편 출력\r\n",
    "print(lr.score(X, y)) # 상관계수 출력"
   ],
   "outputs": [
    {
     "output_type": "stream",
     "name": "stdout",
     "text": [
      "[[-0.03310312]]\n",
      "[172.28133765]\n",
      "0.14661841255337993\n"
     ]
    }
   ],
   "metadata": {}
  },
  {
   "cell_type": "code",
   "execution_count": 290,
   "source": [
    "y1 = (lr.coef_)*X + (lr.intercept_)\r\n",
    "plt.scatter (X, y)\r\n",
    "plt.plot(X, y1)"
   ],
   "outputs": [
    {
     "output_type": "execute_result",
     "data": {
      "text/plain": [
       "[<matplotlib.lines.Line2D at 0x2974814fd88>]"
      ]
     },
     "metadata": {},
     "execution_count": 290
    },
    {
     "output_type": "display_data",
     "data": {
      "text/plain": [
       "<Figure size 432x288 with 1 Axes>"
      ],
      "image/png": "[encoded data removed]"
     },
     "metadata": {
      "needs_background": "light"
     }
    }
   ],
   "metadata": {}
  },
  {
   "cell_type": "markdown",
   "source": [
    "### 다중회귀분석 및 test\r\n",
    "- 미국\r\n",
    "- 일본\r\n",
    "- 유럽\r\n",
    "- 중국"
   ],
   "metadata": {}
  },
  {
   "cell_type": "markdown",
   "source": [
    "#### 미국 데이터 다중회기분석 및 테스트"
   ],
   "metadata": {}
  },
  {
   "cell_type": "code",
   "execution_count": 300,
   "source": [
    "X = AmericanData.iloc[:,1:]\r\n",
    "y = pd.DataFrame(AmericanData['원/미국달러'].values, columns = [['Exchange']], dtype=float)\r\n",
    "lr2 = LinearRegression()\r\n",
    "lr2.fit(X, y)\r\n",
    "print(lr2.coef_)\r\n",
    "print(lr2.intercept_)\r\n",
    "print(lr2.score(X, y))"
   ],
   "outputs": [
    {
     "output_type": "stream",
     "name": "stdout",
     "text": [
      "[[-1.72657040e-04  1.48810389e-05  1.94510322e-05]]\n",
      "[1139.98713361]\n",
      "0.8726104017469026\n"
     ]
    }
   ],
   "metadata": {}
  },
  {
   "cell_type": "code",
   "execution_count": 302,
   "source": [
    "print(lr2.predict(AmericanData_Test.iloc[:,1:]))\r\n",
    "print(AmericanData_Test.iloc[:,:1])"
   ],
   "outputs": [
    {
     "output_type": "stream",
     "name": "stdout",
     "text": [
      "[[1076.11940773]\n",
      " [1104.15307589]\n",
      " [1120.66372977]\n",
      " [1107.67874642]\n",
      " [1117.84606548]\n",
      " [1111.94223309]]\n",
      "         원/미국달러\n",
      "날짜             \n",
      "2021-01  1114.6\n",
      "2021-02  1108.4\n",
      "2021-03  1133.5\n",
      "2021-04  1107.4\n",
      "2021-05  1116.0\n",
      "2021-06  1130.0\n"
     ]
    }
   ],
   "metadata": {}
  },
  {
   "cell_type": "markdown",
   "source": [
    "#### 일본 데이터 다중회기분석"
   ],
   "metadata": {}
  },
  {
   "cell_type": "code",
   "execution_count": 279,
   "source": [
    "X = JapanData.iloc[:,1:]\r\n",
    "y = pd.DataFrame(JapanData['원/일본엔(100엔)'].values, columns = [['Exchange']], dtype=float)\r\n",
    "lr2 = LinearRegression()\r\n",
    "lr2.fit(X, y)\r\n",
    "print(lr2.coef_)\r\n",
    "print(lr2.intercept_)\r\n",
    "print(lr2.score(X, y))"
   ],
   "outputs": [
    {
     "output_type": "stream",
     "name": "stdout",
     "text": [
      "[[-0.01725351  0.00160194  0.00052733]]\n",
      "[1061.79008329]\n",
      "0.8457023835486454\n"
     ]
    }
   ],
   "metadata": {}
  },
  {
   "cell_type": "code",
   "execution_count": 280,
   "source": [
    "print(lr2.predict(JapanData_Test.iloc[:,1:]))\r\n",
    "print(JapanData_Test.iloc[:,:1])"
   ],
   "outputs": [
    {
     "output_type": "stream",
     "name": "stdout",
     "text": [
      "[[1058.32098679]\n",
      " [1060.10640552]\n",
      " [1052.24764506]\n",
      " [1046.93204289]\n",
      " [1049.20278349]\n",
      " [1043.84509932]]\n",
      "         원/일본엔(100엔)\n",
      "날짜                  \n",
      "2021-01      1069.26\n",
      "2021-02      1043.15\n",
      "2021-03      1027.33\n",
      "2021-04      1016.90\n",
      "2021-05      1015.70\n",
      "2021-06      1022.12\n"
     ]
    }
   ],
   "metadata": {}
  },
  {
   "cell_type": "markdown",
   "source": [
    "#### 유럽 데이터 다중회기분석"
   ],
   "metadata": {}
  },
  {
   "cell_type": "code",
   "execution_count": 281,
   "source": [
    "X = EuroData.iloc[:,1:]\r\n",
    "y = pd.DataFrame(EuroData['원/유로'].values, columns = [['Exchange']], dtype=float)\r\n",
    "lr2 = LinearRegression()\r\n",
    "lr2.fit(X, y)\r\n",
    "print(lr2.coef_)\r\n",
    "print(lr2.intercept_)\r\n",
    "print(lr2.score(X, y))"
   ],
   "outputs": [
    {
     "output_type": "stream",
     "name": "stdout",
     "text": [
      "[[-1.81292321e-02  1.39268111e-03  1.31082263e-05]]\n",
      "[1297.75858818]\n",
      "0.8130268157472679\n"
     ]
    }
   ],
   "metadata": {}
  },
  {
   "cell_type": "code",
   "execution_count": 282,
   "source": [
    "print(lr2.predict(EuroData_Test.iloc[:,1:]))\r\n",
    "print(EuroData_Test.iloc[:,:1])"
   ],
   "outputs": [
    {
     "output_type": "stream",
     "name": "stdout",
     "text": [
      "[[1328.25078489]\n",
      " [1338.13082331]\n",
      " [1343.64536219]\n",
      " [1329.83227939]\n",
      " [1356.40839483]\n",
      " [1346.98463628]]\n",
      "            원/유로\n",
      "날짜              \n",
      "2021-01  1351.12\n",
      "2021-02  1349.86\n",
      "2021-03  1328.29\n",
      "2021-04  1342.33\n",
      "2021-05  1360.91\n",
      "2021-06  1344.42\n"
     ]
    }
   ],
   "metadata": {}
  },
  {
   "cell_type": "markdown",
   "source": [
    "#### 중국 데이터 다중회기분석"
   ],
   "metadata": {}
  },
  {
   "cell_type": "code",
   "execution_count": 283,
   "source": [
    "X = ChinaData.iloc[:,1:]\r\n",
    "y = pd.DataFrame(ChinaData['원/위안'].values, columns = [['Exchange']], dtype=float)\r\n",
    "lr2 = LinearRegression()\r\n",
    "lr2.fit(X, y)\r\n",
    "print(lr2.coef_)\r\n",
    "print(lr2.intercept_)\r\n",
    "print(lr2.score(X, y))"
   ],
   "outputs": [
    {
     "output_type": "stream",
     "name": "stdout",
     "text": [
      "[[-0.23390125  0.0137209  -0.0055535 ]]\n",
      "[170.28712258]\n",
      "0.6349312107764751\n"
     ]
    }
   ],
   "metadata": {}
  },
  {
   "cell_type": "code",
   "execution_count": 284,
   "source": [
    "print(lr2.predict(ChinaData_Test.iloc[:,1:]))\r\n",
    "print(ChinaData_Test.iloc[:,:1])"
   ],
   "outputs": [
    {
     "output_type": "stream",
     "name": "stdout",
     "text": [
      "[[169.34420951]\n",
      " [170.08281427]\n",
      " [170.96650556]\n",
      " [169.67867839]\n",
      " [171.41057224]\n",
      " [171.27917081]]\n",
      "           원/위안\n",
      "날짜             \n",
      "2021-01  171.45\n",
      "2021-02  171.86\n",
      "2021-03  172.35\n",
      "2021-04  171.20\n",
      "2021-05  175.22\n",
      "2021-06  174.84\n"
     ]
    }
   ],
   "metadata": {}
  },
  {
   "cell_type": "code",
   "execution_count": null,
   "source": [
    "## 다중회귀분석 그래프 그려보기!\r\n",
    "\r\n",
    "# X1 = (lr2.coef_[0][0] * X.iloc[:,0:1])\r\n",
    "# X2 = (lr2.coef_[0][1] * X.iloc[:,1:2])\r\n",
    "# X3 = (lr2.coef_[0][2] * X.iloc[:,2:3])\r\n",
    "# X0 = X1.values + X2.values + X3.values\r\n",
    "# y1 = X0 + (lr.intercept_)\r\n",
    "\r\n",
    "# plt.plot(X0, y1)\r\n",
    "# plt.scatter(X1, y)\r\n",
    "# plt.scatter(X2, y)\r\n",
    "# plt.scatter(X3, y)"
   ],
   "outputs": [],
   "metadata": {}
  }
 ],
 "metadata": {
  "orig_nbformat": 4,
  "language_info": {
   "name": "python",
   "version": "3.7.9",
   "mimetype": "text/x-python",
   "codemirror_mode": {
    "name": "ipython",
    "version": 3
   },
   "pygments_lexer": "ipython3",
   "nbconvert_exporter": "python",
   "file_extension": ".py"
  },
  "kernelspec": {
   "name": "python3",
   "display_name": "Python 3.7.9 64-bit"
  },
  "interpreter": {
   "hash": "04635d289a519a1410467dd0afb0db42f9184808881ca68b2eb5a687a20a5a94"
  }
 },
 "nbformat": 4,
 "nbformat_minor": 2
}