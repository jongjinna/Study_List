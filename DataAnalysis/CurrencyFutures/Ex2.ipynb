{
 "cells": [
  {
   "cell_type": "markdown",
   "source": [
    "__데이터과학과소셜데이터분석 과제2 미국달러분석__\r\n",
    "===================================\r\n",
    "\r\n",
    "경영학과 2017312717 나종진\r\n",
    "-------------------------"
   ],
   "metadata": {}
  },
  {
   "cell_type": "markdown",
   "source": [
    "## 필요한 라이브러리 import"
   ],
   "metadata": {}
  },
  {
   "cell_type": "code",
   "execution_count": 1,
   "source": [
    "import pandas as pd\r\n",
    "import matplotlib.pyplot as plt\r\n",
    "%matplotlib inline\r\n",
    "import seaborn as sns\r\n",
    "import sklearn\r\n",
    "from sklearn.linear_model import LinearRegression\r\n",
    "from sklearn.linear_model import Ridge, Lasso, ElasticNet\r\n"
   ],
   "outputs": [],
   "metadata": {}
  },
  {
   "cell_type": "markdown",
   "source": [
    "## 데이터 가져오기"
   ],
   "metadata": {}
  },
  {
   "cell_type": "markdown",
   "source": [
    "### 설명 적기\r\n",
    "ExchangeRates는 환율 데이터로 1999년 4월부터 2021년 6월까지 월별 데이터로 원/미국달러 환율 데이터임.\r\n",
    "\r\n",
    "CurrencyFutures은 통화선물데이터로 1999년 4월부터 2021년 6월까지 월별 데이터로 미국달러선물의 계약수, 계약금액, 미체결약정으로 구성됨."
   ],
   "metadata": {}
  },
  {
   "cell_type": "code",
   "execution_count": 2,
   "source": [
    "ExchangeRates = pd.read_csv('./AmericanExchangeRates.csv', index_col=0, na_values=0 )\r\n",
    "CurrencyFutures = pd.read_csv('./AmericanCurrencyFutures.csv', index_col=0, na_values=0, )\r\n",
    "ExchangeRates = ExchangeRates.fillna(0)\r\n",
    "CurrencyFutures = CurrencyFutures.fillna(0)\r\n",
    "print(ExchangeRates)\r\n",
    "print(CurrencyFutures)\r\n"
   ],
   "outputs": [
    {
     "output_type": "stream",
     "name": "stdout",
     "text": [
      "          원/미국달러(매매기준율)\n",
      "날짜                     \n",
      "1999. 04         1176.4\n",
      "1999. 05         1186.3\n",
      "1999. 06         1155.9\n",
      "1999. 07         1206.9\n",
      "1999. 08         1184.9\n",
      "...                 ...\n",
      "2021. 02         1108.4\n",
      "2021. 03         1133.5\n",
      "2021. 04         1107.4\n",
      "2021. 05         1116.0\n",
      "2021. 06         1130.0\n",
      "\n",
      "[267 rows x 1 columns]\n",
      "              계약수       계약금액  미결제약정수량\n",
      "날짜                                   \n",
      "1999. 04     1442      85401      150\n",
      "1999. 05     7448     446132     2097\n",
      "1999. 06    15110     882245     5161\n",
      "1999. 07    35681    2125860    10311\n",
      "1999. 08    29055    1741767    11416\n",
      "...           ...        ...      ...\n",
      "2021. 02  7751130   86311877   927596\n",
      "2021. 03  8905739  100882055   878377\n",
      "2021. 04  7981906   89268875   895082\n",
      "2021. 05  7432911   83604348   878297\n",
      "2021. 06  8025470   90161651   817949\n",
      "\n",
      "[267 rows x 3 columns]\n"
     ]
    }
   ],
   "metadata": {}
  },
  {
   "cell_type": "markdown",
   "source": [
    "## 데이터 설정\r\n",
    "\r\n",
    "앞의 파일과 같은 방식으로 변경"
   ],
   "metadata": {}
  },
  {
   "cell_type": "markdown",
   "source": [
    "### 시간데이터로 변경\r\n"
   ],
   "metadata": {}
  },
  {
   "cell_type": "code",
   "execution_count": 3,
   "source": [
    "ExchangeRates.index = pd.to_datetime(ExchangeRates.index, format=\"%Y. %m\") # dtype = 'datetime64[ns]'로\r\n",
    "ExchangeRates.index = ExchangeRates.index.to_period(\"M\") # dtype='period[M]'으로 \r\n",
    "CurrencyFutures.index = pd.to_datetime(CurrencyFutures.index, format=\"%Y. %m\") # dtype = 'datetime64[ns]'로\r\n",
    "CurrencyFutures.index = CurrencyFutures.index.to_period(\"M\") # dtype='period[M]'으로 "
   ],
   "outputs": [],
   "metadata": {}
  },
  {
   "cell_type": "markdown",
   "source": [
    "### 국가별로 환율과 통화선물 데이터 병합"
   ],
   "metadata": {}
  },
  {
   "cell_type": "code",
   "execution_count": 4,
   "source": [
    "AmericanData = pd.merge(ExchangeRates['원/미국달러(매매기준율)'], CurrencyFutures, how='outer', on='날짜')\r\n",
    "print(AmericanData)"
   ],
   "outputs": [
    {
     "output_type": "stream",
     "name": "stdout",
     "text": [
      "         원/미국달러(매매기준율)      계약수       계약금액  미결제약정수량\n",
      "날짜                                                 \n",
      "1999-04         1176.4     1442      85401      150\n",
      "1999-05         1186.3     7448     446132     2097\n",
      "1999-06         1155.9    15110     882245     5161\n",
      "1999-07         1206.9    35681    2125860    10311\n",
      "1999-08         1184.9    29055    1741767    11416\n",
      "...                ...      ...        ...      ...\n",
      "2021-02         1108.4  7751130   86311877   927596\n",
      "2021-03         1133.5  8905739  100882055   878377\n",
      "2021-04         1107.4  7981906   89268875   895082\n",
      "2021-05         1116.0  7432911   83604348   878297\n",
      "2021-06         1130.0  8025470   90161651   817949\n",
      "\n",
      "[267 rows x 4 columns]\n"
     ]
    }
   ],
   "metadata": {}
  },
  {
   "cell_type": "markdown",
   "source": [
    "### 분석 데이터와 Test 데이터로 구분\r\n",
    "( ~ 20년 12월 데이터 / 21년 1월 ~ 21년 6월 21년 상반기 데이터)"
   ],
   "metadata": {}
  },
  {
   "cell_type": "code",
   "execution_count": 5,
   "source": [
    "AmericanData_Test = AmericanData['202101':]\r\n",
    "AmericanData_Teach = AmericanData[:'202012']"
   ],
   "outputs": [],
   "metadata": {}
  },
  {
   "cell_type": "markdown",
   "source": [
    "## 데이터 분석\r\n",
    "\r\n",
    "앞의 파일과 같은 방식으로 변경"
   ],
   "metadata": {}
  },
  {
   "cell_type": "markdown",
   "source": [
    "### 다중회귀분석 실행"
   ],
   "metadata": {}
  },
  {
   "cell_type": "code",
   "execution_count": 6,
   "source": [
    "X = AmericanData_Teach.iloc[:,1:]\r\n",
    "y = pd.DataFrame(AmericanData_Teach['원/미국달러(매매기준율)'].values, columns = [['Exchange']], dtype=float)\r\n",
    "lr2 = LinearRegression()\r\n",
    "lr2.fit(X, y)\r\n",
    "print(lr2.coef_)\r\n",
    "print(lr2.intercept_)\r\n",
    "print(lr2.score(X, y))"
   ],
   "outputs": [
    {
     "output_type": "stream",
     "name": "stdout",
     "text": [
      "[[-4.36149409e-06  2.43274529e-06 -1.67420870e-04]]\n",
      "[1118.77323545]\n",
      "0.1149015572173101\n"
     ]
    }
   ],
   "metadata": {}
  },
  {
   "cell_type": "markdown",
   "source": [
    "### Test를 이용해서 비교"
   ],
   "metadata": {}
  },
  {
   "cell_type": "code",
   "execution_count": 7,
   "source": [
    "print('분석 데이터\\n', lr2.predict(AmericanData_Test.iloc[:,1:]))\r\n",
    "print('실제 데이터\\n', AmericanData_Test.iloc[:,:1])"
   ],
   "outputs": [
    {
     "output_type": "stream",
     "name": "stdout",
     "text": [
      "분석 데이터\n",
      " [[1167.5224236 ]\n",
      " [1139.64261029]\n",
      " [1178.29260964]\n",
      " [1151.27322726]\n",
      " [1142.69747364]\n",
      " [1166.16879372]]\n",
      "실제 데이터\n",
      "          원/미국달러(매매기준율)\n",
      "날짜                    \n",
      "2021-01         1114.6\n",
      "2021-02         1108.4\n",
      "2021-03         1133.5\n",
      "2021-04         1107.4\n",
      "2021-05         1116.0\n",
      "2021-06         1130.0\n"
     ]
    }
   ],
   "metadata": {}
  },
  {
   "cell_type": "markdown",
   "source": [
    "### 상관관계가 높은 기간 찾기 (연별)\r\n",
    "\r\n",
    "연도별로 상관관계가 높은 기간이 언젠지 찾는 과정.\r\n",
    "\r\n",
    "X값에 해당하는 날짜 범위를 조절해가면서 계산."
   ],
   "metadata": {}
  },
  {
   "cell_type": "code",
   "execution_count": 8,
   "source": [
    "date = ['200001','200101','200201','200301','200401','200501','200601','200701','200801','200901','201001','201101','201201','201301','201401','201501','201601','201701','201801','201901','202001']\r\n",
    "date_over8 = {}\r\n",
    "date_over9 = {}\r\n",
    "for i in date:\r\n",
    "  s1 = 'AmericanData_%s = AmericanData[\"%s\":\"202012\"]'%(i,i)\r\n",
    "  exec(s1)\r\n",
    "  s2 = 'AmericanData_Repeat = AmericanData_%s'%(i)\r\n",
    "  exec(s2)\r\n",
    "  X = AmericanData_Repeat.iloc[:,1:]\r\n",
    "  y = pd.DataFrame(AmericanData_Repeat[\"원/미국달러(매매기준율)\"].values, columns = [[\"Exchange\"]], dtype=float)\r\n",
    "  lr2 = LinearRegression()\r\n",
    "  lr2.fit(X, y)\r\n",
    "  if lr2.score(X, y)>0.8:\r\n",
    "    date_over8[i] = lr2.score(X, y)\r\n",
    "    if lr2.score(X, y)>0.9:\r\n",
    "      date_over9[i] = lr2.score(X, y)\r\n",
    "\r\n",
    "print('상관관계가 0.8 이상\\n', date_over8)\r\n",
    "print('상관관계가 0.9 이상\\n', date_over9)"
   ],
   "outputs": [
    {
     "output_type": "stream",
     "name": "stdout",
     "text": [
      "상관관계가 0.8 이상\n",
      " {'201001': 0.8334019459764497, '201101': 0.8305211554117982, '201201': 0.8498483001024416, '201301': 0.8571623645539896, '201401': 0.8565259611196381, '201501': 0.8616128255418796, '201601': 0.8726104017469026, '201701': 0.9126998661665814, '201801': 0.9428335399399947, '201901': 0.935573328909266, '202001': 0.9585595608762761}\n",
      "상관관계가 0.9 이상\n",
      " {'201701': 0.9126998661665814, '201801': 0.9428335399399947, '201901': 0.935573328909266, '202001': 0.9585595608762761}\n"
     ]
    }
   ],
   "metadata": {}
  },
  {
   "cell_type": "markdown",
   "source": [
    "### 가장 상관관계가 높았던 2018년으로 계산(2020년이 더 상관관계가 높지만 너무 단기간의 데이터로 제외.)\r\n",
    "\r\n",
    "위 방법과 동일한 방법으로 계산"
   ],
   "metadata": {}
  },
  {
   "cell_type": "code",
   "execution_count": 9,
   "source": [
    "AmericanData_Test = AmericanData['202101':]\r\n",
    "AmericanData_Teach = AmericanData['201801':'202012']\r\n",
    "X = AmericanData_Teach.iloc[:,1:]\r\n",
    "y = pd.DataFrame(AmericanData_Teach['원/미국달러(매매기준율)'].values, columns = [['Exchange']], dtype=float)\r\n",
    "lr2 = LinearRegression()\r\n",
    "lr2.fit(X, y)\r\n",
    "print('분석 데이터\\n', lr2.predict(AmericanData_Test.iloc[:,1:]))\r\n",
    "print('실제 데이터\\n', AmericanData_Test.iloc[:,:1])"
   ],
   "outputs": [
    {
     "output_type": "stream",
     "name": "stdout",
     "text": [
      "분석 데이터\n",
      " [[1091.17739481]\n",
      " [1122.09130949]\n",
      " [1133.08928155]\n",
      " [1123.00684789]\n",
      " [1132.33578314]\n",
      " [1121.92636897]]\n",
      "실제 데이터\n",
      "          원/미국달러(매매기준율)\n",
      "날짜                    \n",
      "2021-01         1114.6\n",
      "2021-02         1108.4\n",
      "2021-03         1133.5\n",
      "2021-04         1107.4\n",
      "2021-05         1116.0\n",
      "2021-06         1130.0\n"
     ]
    }
   ],
   "metadata": {}
  },
  {
   "cell_type": "markdown",
   "source": [
    "### 다른 회귀분석방법\r\n",
    "\r\n",
    "벌점회귀분석방법을 사용(Elastic Net 회귀 방법)"
   ],
   "metadata": {}
  },
  {
   "cell_type": "code",
   "execution_count": 10,
   "source": [
    "elastic_net = ElasticNet()\r\n",
    "elastic_net.fit(X, y)\r\n",
    "# print('Elastic_Net coef:\\n ', elastic_net.coef_) #13 개의 회귀계수 출력\r\n",
    "# print('\\nElastic_Net intercept: \\n', elastic_net.intercept_) #절편값 출력\r\n",
    "# print('상관관계', elastic_net.score(X, y))\r\n",
    "print('분석 데이터\\n', elastic_net.predict(AmericanData_Test.iloc[:,1:]))\r\n",
    "print('실제 데이터\\n', AmericanData_Test.iloc[:,:1])"
   ],
   "outputs": [
    {
     "output_type": "stream",
     "name": "stdout",
     "text": [
      "분석 데이터\n",
      " [1091.17739107 1122.09128116 1133.08926786 1123.00682674 1132.33575773\n",
      " 1121.9263617 ]\n",
      "실제 데이터\n",
      "          원/미국달러(매매기준율)\n",
      "날짜                    \n",
      "2021-01         1114.6\n",
      "2021-02         1108.4\n",
      "2021-03         1133.5\n",
      "2021-04         1107.4\n",
      "2021-05         1116.0\n",
      "2021-06         1130.0\n"
     ]
    },
    {
     "output_type": "stream",
     "name": "stderr",
     "text": [
      "C:\\Python37\\lib\\site-packages\\sklearn\\linear_model\\_coordinate_descent.py:532: ConvergenceWarning: Objective did not converge. You might want to increase the number of iterations. Duality gap: 1126.9721462961236, tolerance: 8.616728555555557\n",
      "  positive)\n"
     ]
    }
   ],
   "metadata": {}
  }
 ],
 "metadata": {
  "orig_nbformat": 4,
  "language_info": {
   "name": "python",
   "version": "3.7.9",
   "mimetype": "text/x-python",
   "codemirror_mode": {
    "name": "ipython",
    "version": 3
   },
   "pygments_lexer": "ipython3",
   "nbconvert_exporter": "python",
   "file_extension": ".py"
  },
  "kernelspec": {
   "name": "python3",
   "display_name": "Python 3.7.9 64-bit"
  },
  "interpreter": {
   "hash": "04635d289a519a1410467dd0afb0db42f9184808881ca68b2eb5a687a20a5a94"
  }
 },
 "nbformat": 4,
 "nbformat_minor": 2
}