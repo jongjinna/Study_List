{
 "cells": [
  {
   "cell_type": "markdown",
   "source": [
    "__데이터과학과소셜데이터분석 과제2 미국달러분석__\r\n",
    "===================================\r\n",
    "\r\n",
    "경영학과 2017312717 나종진\r\n",
    "-------------------------"
   ],
   "metadata": {}
  },
  {
   "cell_type": "markdown",
   "source": [
    "## 필요한 라이브러리 import"
   ],
   "metadata": {}
  },
  {
   "cell_type": "code",
   "execution_count": 12,
   "source": [
    "import pandas as pd\r\n",
    "import matplotlib.pyplot as plt\r\n",
    "%matplotlib inline\r\n",
    "import seaborn as sns\r\n",
    "import sklearn\r\n",
    "from sklearn.linear_model import LinearRegression\r\n",
    "from sklearn.linear_model import Ridge, Lasso, ElasticNet\r\n"
   ],
   "outputs": [],
   "metadata": {}
  },
  {
   "cell_type": "markdown",
   "source": [
    "## 데이터 가져오기"
   ],
   "metadata": {}
  },
  {
   "cell_type": "markdown",
   "source": [
    "### 설명 적기\r\n",
    "ExchangeRates는 환율 데이터로 어떻게 구성되어있음\r\n",
    "\r\n",
    "CurrencyFutures은 통화선물데이터로 이렇게 구성되어있음"
   ],
   "metadata": {}
  },
  {
   "cell_type": "code",
   "execution_count": 13,
   "source": [
    "ExchangeRates = pd.read_csv('./AmericanExchangeRates.csv', index_col=0, na_values=0 )\r\n",
    "CurrencyFutures = pd.read_csv('./AmericanCurrencyFutures.csv', index_col=0, na_values=0, )\r\n",
    "ExchangeRates = ExchangeRates.fillna(0)\r\n",
    "CurrencyFutures = CurrencyFutures.fillna(0)\r\n"
   ],
   "outputs": [],
   "metadata": {}
  },
  {
   "cell_type": "markdown",
   "source": [
    "## 데이터 설정"
   ],
   "metadata": {}
  },
  {
   "cell_type": "markdown",
   "source": [
    "### 시간데이터로 변경"
   ],
   "metadata": {}
  },
  {
   "cell_type": "code",
   "execution_count": 14,
   "source": [
    "ExchangeRates.index = pd.to_datetime(ExchangeRates.index, format=\"%Y. %m\") # dtype = 'datetime64[ns]'로\r\n",
    "ExchangeRates.index = ExchangeRates.index.to_period(\"M\") # dtype='period[M]'으로 \r\n",
    "CurrencyFutures.index = pd.to_datetime(CurrencyFutures.index, format=\"%Y. %m\") # dtype = 'datetime64[ns]'로\r\n",
    "CurrencyFutures.index = CurrencyFutures.index.to_period(\"M\") # dtype='period[M]'으로 "
   ],
   "outputs": [],
   "metadata": {}
  },
  {
   "cell_type": "markdown",
   "source": [
    "### 국가별로 환율과 통화선물 데이터 병합"
   ],
   "metadata": {}
  },
  {
   "cell_type": "code",
   "execution_count": 15,
   "source": [
    "AmericanData = pd.merge(ExchangeRates['원/미국달러(매매기준율)'], CurrencyFutures, how='outer', on='날짜')"
   ],
   "outputs": [],
   "metadata": {}
  },
  {
   "cell_type": "markdown",
   "source": [
    "### 분석 데이터와 Test 데이터로 구분\r\n",
    "( ~ 20년 12월 데이터 / 21년 1월 ~ 21년 6월 21년 상반기 데이터)"
   ],
   "metadata": {}
  },
  {
   "cell_type": "code",
   "execution_count": 16,
   "source": [
    "AmericanData_Test = AmericanData['202101':]\r\n",
    "AmericanData_Teach = AmericanData[:'202012']"
   ],
   "outputs": [],
   "metadata": {}
  },
  {
   "cell_type": "markdown",
   "source": [
    "### 다중회귀분석 실행"
   ],
   "metadata": {}
  },
  {
   "cell_type": "code",
   "execution_count": 17,
   "source": [
    "X = AmericanData_Teach.iloc[:,1:]\r\n",
    "y = pd.DataFrame(AmericanData_Teach['원/미국달러(매매기준율)'].values, columns = [['Exchange']], dtype=float)\r\n",
    "lr2 = LinearRegression()\r\n",
    "lr2.fit(X, y)\r\n",
    "print(lr2.coef_)\r\n",
    "print(lr2.intercept_)\r\n",
    "print(lr2.score(X, y))"
   ],
   "outputs": [
    {
     "output_type": "stream",
     "name": "stdout",
     "text": [
      "[[-4.36149409e-06  2.43274529e-06 -1.67420870e-04]]\n",
      "[1118.77323545]\n",
      "0.1149015572173101\n"
     ]
    }
   ],
   "metadata": {}
  },
  {
   "cell_type": "markdown",
   "source": [
    "### Test를 이용해서 비교"
   ],
   "metadata": {}
  },
  {
   "cell_type": "code",
   "execution_count": 18,
   "source": [
    "print(lr2.predict(AmericanData_Test.iloc[:,1:]))\r\n",
    "print(AmericanData_Test.iloc[:,:1])"
   ],
   "outputs": [
    {
     "output_type": "stream",
     "name": "stdout",
     "text": [
      "[[1167.5224236 ]\n",
      " [1139.64261029]\n",
      " [1178.29260964]\n",
      " [1151.27322726]\n",
      " [1142.69747364]\n",
      " [1166.16879372]]\n",
      "         원/미국달러(매매기준율)\n",
      "날짜                    \n",
      "2021-01         1114.6\n",
      "2021-02         1108.4\n",
      "2021-03         1133.5\n",
      "2021-04         1107.4\n",
      "2021-05         1116.0\n",
      "2021-06         1130.0\n"
     ]
    }
   ],
   "metadata": {}
  },
  {
   "cell_type": "markdown",
   "source": [
    "### 상관관계가 높은 기간 찾기 (연별)"
   ],
   "metadata": {}
  },
  {
   "cell_type": "code",
   "execution_count": 19,
   "source": [
    "date = ['200001','200101','200201','200301','200401','200501','200601','200701','200801','200901','201001','201101','201201','201301','201401','201501','201601','201701','201801','201901','202001']\r\n",
    "date_over8 = {}\r\n",
    "date_over9 = {}\r\n",
    "for i in date:\r\n",
    "  s1 = 'AmericanData_%s = AmericanData[\"%s\":\"202012\"]'%(i,i)\r\n",
    "  exec(s1)\r\n",
    "  s2 = 'h1 = AmericanData_%s'%(i)\r\n",
    "  exec(s2)\r\n",
    "  X = h1.iloc[:,1:]\r\n",
    "  y = pd.DataFrame(h1[\"원/미국달러(매매기준율)\"].values, columns = [[\"Exchange\"]], dtype=float)\r\n",
    "  lr2 = LinearRegression()\r\n",
    "  lr2.fit(X, y)\r\n",
    "  if lr2.score(X, y)>0.8:\r\n",
    "    date_over8[i] = lr2.score(X, y)\r\n",
    "    if lr2.score(X, y)>0.9:\r\n",
    "      date_over9[i] = lr2.score(X, y)\r\n",
    "\r\n",
    "print('상관관계가 0.8 이상\\n', date_over8)\r\n",
    "print('상관관계가 0.9 이상\\n', date_over9)"
   ],
   "outputs": [
    {
     "output_type": "stream",
     "name": "stdout",
     "text": [
      "상관관계가 0.8 이상\n",
      " {'201001': 0.8334019459764497, '201101': 0.8305211554117982, '201201': 0.8498483001024416, '201301': 0.8571623645539896, '201401': 0.8565259611196381, '201501': 0.8616128255418796, '201601': 0.8726104017469026, '201701': 0.9126998661665814, '201801': 0.9428335399399947, '201901': 0.935573328909266, '202001': 0.9585595608762761}\n",
      "상관관계가 0.9 이상\n",
      " {'201701': 0.9126998661665814, '201801': 0.9428335399399947, '201901': 0.935573328909266, '202001': 0.9585595608762761}\n"
     ]
    }
   ],
   "metadata": {}
  },
  {
   "cell_type": "markdown",
   "source": [
    "### 단위가 1년을 제외하고 가장 상관관계가 높았던 2018년으로 계산"
   ],
   "metadata": {}
  },
  {
   "cell_type": "code",
   "execution_count": 20,
   "source": [
    "AmericanData_Test = AmericanData['202101':]\r\n",
    "AmericanData_Teach = AmericanData['201801':'202012']\r\n",
    "X = AmericanData_Teach.iloc[:,1:]\r\n",
    "y = pd.DataFrame(AmericanData_Teach['원/미국달러(매매기준율)'].values, columns = [['Exchange']], dtype=float)\r\n",
    "lr2 = LinearRegression()\r\n",
    "lr2.fit(X, y)\r\n",
    "print(lr2.predict(AmericanData_Test.iloc[:,1:]))\r\n",
    "print(AmericanData_Test.iloc[:,:1])"
   ],
   "outputs": [
    {
     "output_type": "stream",
     "name": "stdout",
     "text": [
      "[[1091.17739481]\n",
      " [1122.09130949]\n",
      " [1133.08928155]\n",
      " [1123.00684789]\n",
      " [1132.33578314]\n",
      " [1121.92636897]]\n",
      "         원/미국달러(매매기준율)\n",
      "날짜                    \n",
      "2021-01         1114.6\n",
      "2021-02         1108.4\n",
      "2021-03         1133.5\n",
      "2021-04         1107.4\n",
      "2021-05         1116.0\n",
      "2021-06         1130.0\n"
     ]
    }
   ],
   "metadata": {}
  },
  {
   "cell_type": "markdown",
   "source": [
    "### 다중회귀분석 다른 방법으로 분석"
   ],
   "metadata": {}
  },
  {
   "cell_type": "code",
   "execution_count": 21,
   "source": [
    "elastic_net = ElasticNet()\r\n",
    "elastic_net.fit(X, y)\r\n",
    "# print('Elastic_Net coef:\\n ', elastic_net.coef_) #13 개의 회귀계수 출력\r\n",
    "# print('\\nElastic_Net intercept: \\n', elastic_net.intercept_) #절편값 출력\r\n",
    "# print('상관관계', elastic_net.score(X, y))\r\n",
    "print(elastic_net.predict(AmericanData_Test.iloc[:,1:]))\r\n",
    "print(AmericanData_Test.iloc[:,:1])"
   ],
   "outputs": [
    {
     "output_type": "stream",
     "name": "stdout",
     "text": [
      "[1091.17739107 1122.09128116 1133.08926786 1123.00682674 1132.33575773\n",
      " 1121.9263617 ]\n",
      "         원/미국달러(매매기준율)\n",
      "날짜                    \n",
      "2021-01         1114.6\n",
      "2021-02         1108.4\n",
      "2021-03         1133.5\n",
      "2021-04         1107.4\n",
      "2021-05         1116.0\n",
      "2021-06         1130.0\n"
     ]
    },
    {
     "output_type": "stream",
     "name": "stderr",
     "text": [
      "C:\\Python37\\lib\\site-packages\\sklearn\\linear_model\\_coordinate_descent.py:532: ConvergenceWarning: Objective did not converge. You might want to increase the number of iterations. Duality gap: 1126.9721462961236, tolerance: 8.616728555555557\n",
      "  positive)\n"
     ]
    }
   ],
   "metadata": {}
  }
 ],
 "metadata": {
  "orig_nbformat": 4,
  "language_info": {
   "name": "python",
   "version": "3.7.9",
   "mimetype": "text/x-python",
   "codemirror_mode": {
    "name": "ipython",
    "version": 3
   },
   "pygments_lexer": "ipython3",
   "nbconvert_exporter": "python",
   "file_extension": ".py"
  },
  "kernelspec": {
   "name": "python3",
   "display_name": "Python 3.7.9 64-bit"
  },
  "interpreter": {
   "hash": "04635d289a519a1410467dd0afb0db42f9184808881ca68b2eb5a687a20a5a94"
  }
 },
 "nbformat": 4,
 "nbformat_minor": 2
}